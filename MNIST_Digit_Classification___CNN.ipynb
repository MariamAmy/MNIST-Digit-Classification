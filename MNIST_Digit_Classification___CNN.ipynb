{
  "nbformat": 4,
  "nbformat_minor": 0,
  "metadata": {
    "colab": {
      "name": "MNIST Digit Classification | CNN",
      "provenance": []
    },
    "kernelspec": {
      "name": "python3",
      "display_name": "Python 3"
    },
    "language_info": {
      "name": "python"
    }
  },
  "cells": [
    {
      "cell_type": "code",
      "metadata": {
        "id": "fjFPqR02JHRZ"
      },
      "source": [
        "# Import libraries\n",
        "\n",
        "import tensorflow as tf\n",
        "from numpy import mean\n",
        "from numpy import std\n",
        "from matplotlib import pyplot as plt\n",
        "from sklearn.model_selection import KFold\n",
        "from tensorflow.keras.datasets import mnist\n",
        "from tensorflow.keras.utils import to_categorical\n",
        "from tensorflow.keras.models import Sequential\n",
        "from tensorflow.keras.layers import Conv2D\n",
        "from tensorflow.keras.layers import MaxPooling2D\n",
        "from tensorflow.keras.layers import Dense\n",
        "from tensorflow.keras.layers import Flatten\n",
        "from tensorflow.keras.optimizers import SGD"
      ],
      "execution_count": 19,
      "outputs": []
    },
    {
      "cell_type": "code",
      "metadata": {
        "id": "Hz9SJNRtNN9h"
      },
      "source": [
        "# Load the dataset\n",
        "\n",
        "def load_dataset():\n",
        "  (train_X, train_Y), (test_X, test_Y) = mnist.load_data()\n",
        "\n",
        "  # Reshape dataset to a single channel\n",
        "\n",
        "  train_X = train_X.reshape((train_X.shape[0], 28, 28, 1))\n",
        "  test_X = test_X.reshape((test_X.shape[0], 28, 28, 1))\n",
        "\n",
        "  # One hot encoding to target values\n",
        "\n",
        "  train_Y = to_categorical(train_Y)\n",
        "  test_Y = to_categorical(test_Y)\n",
        "  return train_X, train_Y, test_X, test_Y"
      ],
      "execution_count": 44,
      "outputs": []
    },
    {
      "cell_type": "code",
      "metadata": {
        "id": "bLaiYpw1Pl_e"
      },
      "source": [
        "# Scale pixels\n",
        "\n",
        "def scale_pixels(train, test):\n",
        "\n",
        "  # First: convert the datatype from integers to floats\n",
        "  train_norm = train.astype('float32')\n",
        "  test_norm = test.astype('float32')\n",
        "\n",
        "  # Second: normalize the values to be in range [0:1]\n",
        "  train_norm /= 255.0\n",
        "  test_norm /= 255.0\n",
        "\n",
        "  # Third: return normalized images\n",
        "  return train_norm, test_norm"
      ],
      "execution_count": 45,
      "outputs": []
    },
    {
      "cell_type": "code",
      "metadata": {
        "id": "Dx6fma1XS1Qw"
      },
      "source": [
        "# Building a CNN model \n",
        "\n",
        "model = tf.keras.models.Sequential([\n",
        "        tf.keras.layers.Conv2D(32, (3,3), activation = 'elu', input_shape=(28, 28, 1)),\n",
        "        tf.keras.layers.MaxPooling2D(2, 2),\n",
        "        tf.keras.layers.Normalization(),\n",
        "\n",
        "        tf.keras.layers.Conv2D(64, (3,3), activation = 'elu'),\n",
        "        tf.keras.layers.MaxPooling2D(2, 2),\n",
        "        tf.keras.layers.Normalization(),\n",
        "\n",
        "        tf.keras.layers.Conv2D(64, (3,3), activation = 'elu'),\n",
        "        tf.keras.layers.MaxPooling2D(2, 2),\n",
        "        tf.keras.layers.Normalization(),\n",
        "\n",
        "        tf.keras.layers.Flatten(),\n",
        "        tf.keras.layers.Dense(200, activation = 'elu'),\n",
        "        tf.keras.layers.Normalization(),\n",
        "        tf.keras.layers.Dense(100, activation = 'elu'),\n",
        "        tf.keras.layers.Normalization(),\n",
        "        tf.keras.layers.Dense(50, activation = 'elu'),\n",
        "        tf.keras.layers.Normalization(),\n",
        "        tf.keras.layers.Dense(10, activation = 'softmax')                            \n",
        "])"
      ],
      "execution_count": 73,
      "outputs": []
    },
    {
      "cell_type": "code",
      "metadata": {
        "colab": {
          "base_uri": "https://localhost:8080/"
        },
        "id": "_x6JNWkSWJ65",
        "outputId": "e8253fef-f175-4e27-ef6a-e1700e29f16f"
      },
      "source": [
        "# load dataset\n",
        "train_X, train_Y, test_X, test_Y = load_dataset()\n",
        "\t# prepare pixel data\n",
        "train_X, test_X = scale_pixels(train_X, test_X)\n",
        "\n",
        "# Compile the model\n",
        "\n",
        "model.compile(optimizer = 'SGD', loss = 'categorical_crossentropy', metrics = 'acc')\n",
        "\n",
        "# Fitting the model\n",
        "\n",
        "model.fit(train_X, train_Y, epochs = 10)"
      ],
      "execution_count": 74,
      "outputs": [
        {
          "output_type": "stream",
          "name": "stdout",
          "text": [
            "Epoch 1/10\n",
            "1875/1875 [==============================] - 68s 36ms/step - loss: 0.6301 - acc: 0.8220\n",
            "Epoch 2/10\n",
            "1875/1875 [==============================] - 67s 36ms/step - loss: 0.1579 - acc: 0.9506\n",
            "Epoch 3/10\n",
            "1875/1875 [==============================] - 67s 36ms/step - loss: 0.1112 - acc: 0.9660\n",
            "Epoch 4/10\n",
            "1875/1875 [==============================] - 66s 35ms/step - loss: 0.0893 - acc: 0.9730\n",
            "Epoch 5/10\n",
            "1875/1875 [==============================] - 66s 35ms/step - loss: 0.0764 - acc: 0.9760\n",
            "Epoch 6/10\n",
            "1875/1875 [==============================] - 67s 36ms/step - loss: 0.0662 - acc: 0.9799\n",
            "Epoch 7/10\n",
            "1875/1875 [==============================] - 67s 36ms/step - loss: 0.0590 - acc: 0.9821\n",
            "Epoch 8/10\n",
            "1875/1875 [==============================] - 67s 36ms/step - loss: 0.0526 - acc: 0.9838\n",
            "Epoch 9/10\n",
            "1875/1875 [==============================] - 67s 36ms/step - loss: 0.0474 - acc: 0.9857\n",
            "Epoch 10/10\n",
            "1875/1875 [==============================] - 67s 36ms/step - loss: 0.0440 - acc: 0.9864\n"
          ]
        },
        {
          "output_type": "execute_result",
          "data": {
            "text/plain": [
              "<keras.callbacks.History at 0x7f81b0c78f50>"
            ]
          },
          "metadata": {},
          "execution_count": 74
        }
      ]
    },
    {
      "cell_type": "code",
      "metadata": {
        "colab": {
          "base_uri": "https://localhost:8080/"
        },
        "id": "d6kj7_dtYaQ6",
        "outputId": "806c33c7-7041-4c5d-ba83-b2e13aef374c"
      },
      "source": [
        "# Testing the model\n",
        "\n",
        "test_loss, test_accuracy = model.evaluate(test_X, test_Y)"
      ],
      "execution_count": 75,
      "outputs": [
        {
          "output_type": "stream",
          "name": "stdout",
          "text": [
            "313/313 [==============================] - 4s 12ms/step - loss: 0.0616 - acc: 0.9814\n"
          ]
        }
      ]
    },
    {
      "cell_type": "code",
      "metadata": {
        "id": "M7jSydH0mSKv"
      },
      "source": [
        ""
      ],
      "execution_count": null,
      "outputs": []
    }
  ]
}